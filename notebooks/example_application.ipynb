{
 "cells": [
  {
   "cell_type": "code",
   "execution_count": null,
   "metadata": {},
   "outputs": [],
   "source": [
    "%load_ext autoreload\n",
    "%autoreload 2"
   ]
  },
  {
   "cell_type": "code",
   "execution_count": 5,
   "metadata": {},
   "outputs": [],
   "source": [
    "import pandas as pd\n",
    "import sys\n",
    "import os\n",
    "import importlib\n",
    "import ast\n",
    "import numpy as np"
   ]
  },
  {
   "cell_type": "markdown",
   "metadata": {},
   "source": [
    "This notebook exemplifies how to apply Geordie to a collection of documents and extract some data in order to start an analysis."
   ]
  },
  {
   "cell_type": "markdown",
   "metadata": {},
   "source": [
    "# Load data"
   ]
  },
  {
   "cell_type": "code",
   "execution_count": 25,
   "metadata": {},
   "outputs": [],
   "source": [
    "data=pd.read_csv(\"...\") # expects data to have, at least, columns \"title\", \"abstract\" and \"ID\"\n",
    "data[\"fulltext\"] = data[\"title\"]+\". \"+data[\"abstract\"]"
   ]
  },
  {
   "cell_type": "markdown",
   "metadata": {},
   "source": [
    "# Apply Geordie"
   ]
  },
  {
   "cell_type": "code",
   "execution_count": 26,
   "metadata": {},
   "outputs": [],
   "source": [
    "current_dir = os.getcwd()\n",
    "subfolder_path = os.path.join(current_dir, '/Users/bertagrimau/dev_projects/geordie/') # change as needed\n",
    "\n",
    "# Add the subfolder to the system path\n",
    "sys.path.append(subfolder_path)"
   ]
  },
  {
   "cell_type": "code",
   "execution_count": null,
   "metadata": {},
   "outputs": [],
   "source": [
    "import geordie\n",
    "importlib.reload(geordie)"
   ]
  },
  {
   "cell_type": "code",
   "execution_count": 28,
   "metadata": {},
   "outputs": [],
   "source": [
    "# Might need to authenticate into HG's hub in order ot load the NER model\n",
    "\n",
    "# from huggingface_hub import notebook_login\n",
    "# notebook_login()"
   ]
  },
  {
   "cell_type": "code",
   "execution_count": null,
   "metadata": {},
   "outputs": [],
   "source": [
    "my_geordie = geordie.Geordie()"
   ]
  },
  {
   "cell_type": "code",
   "execution_count": null,
   "metadata": {},
   "outputs": [],
   "source": [
    "all_results = {}\n",
    "\n",
    "for id, text in data[[\"ID\",\"fulltext\"]].itertuples(index=False):\n",
    "    results_for_record=[]\n",
    "    print(id)\n",
    "    try:\n",
    "        results = my_geordie.process_text(text)\n",
    "        if results!=[]:\n",
    "            for result in results:\n",
    "                results_for_record.append({\"entity\":result[\"entity\"],\"osm\":result[\"osm\"],\"context\":result[\"context\"]})            \n",
    "        else:\n",
    "            results_for_record.append(None)\n",
    "        all_results[id]=results_for_record\n",
    "    except Exception as error:\n",
    "        print(\"Exception: \", error)\n",
    "        all_results[id]=None\n",
    "        \n",
    "\n",
    "all_results_df = pd.DataFrame([all_results.keys(), all_results.values()]).T.reset_index(drop=True).rename(columns={0:\"ID\",1:\"geordie\"})\n",
    "# all_results_df.to_csv(\"...\")\n",
    "\n",
    "final = data.merge(all_results_df, on=\"ID\").drop(columns=[\"fulltext\"])\n",
    "# final.to_csv(\"...\")"
   ]
  },
  {
   "cell_type": "markdown",
   "metadata": {},
   "source": [
    "# Extract (some) entities for analysis"
   ]
  },
  {
   "cell_type": "code",
   "execution_count": null,
   "metadata": {},
   "outputs": [],
   "source": [
    "final = final.fillna(\"\")\n",
    "no_nulls_df = final[(final.geordie!=\"[None]\") & (final.geordie!=\"\")][[\"ID\", 'title', 'abstract', \"geordie\"]].reset_index(drop=True)"
   ]
  },
  {
   "cell_type": "code",
   "execution_count": 17,
   "metadata": {},
   "outputs": [],
   "source": [
    "def get_entities(x):\n",
    "    \n",
    "    entities=[]\n",
    "    for item in x:\n",
    "        if item!=None:\n",
    "            entities.append(item[\"entity\"])\n",
    "        else:\n",
    "            continue\n",
    "    return entities\n",
    "\n",
    "def get_osm(x):\n",
    "    all_osm=[]\n",
    "    for item in x:\n",
    "        if item!=None:\n",
    "            osm=item.get(\"osm\",{})\n",
    "            all_osm.append(osm)\n",
    "        else:\n",
    "            continue\n",
    "    return all_osm\n",
    "\n",
    "def get_context(x):\n",
    "    all_osm=[]\n",
    "    for item in x:\n",
    "        if item!=None:\n",
    "            osm=item.get(\"context\",{})\n",
    "            all_osm.append(osm)\n",
    "        else:\n",
    "            continue\n",
    "    return all_osm\n",
    "\n",
    "\n",
    "def get_town(x):\n",
    "    if not(pd.isnull(x)):\n",
    "        address=x.get(\"address\",{})\n",
    "        if address.get('city', None)!=None:\n",
    "            res=address.get('city', None)\n",
    "        elif address.get('town', None)!=None:\n",
    "            res=address.get(\"town\",None)\n",
    "        elif address.get('village', None)!=None:\n",
    "            res=address.get(\"village\",None)\n",
    "        else:\n",
    "            res=None\n",
    "        return res\n",
    "    else:\n",
    "        return None\n",
    "\n",
    "\n",
    "def get_region(x, type_region): #type_region=\"county\", \"state\", etc\n",
    "    if not(pd.isnull(x)):\n",
    "        address=x.get(\"address\",{})\n",
    "        if address.get(type_region, None)!=None:\n",
    "            res=address.get(type_region, None)\n",
    "        else:\n",
    "            res=None\n",
    "        return res\n",
    "    else:\n",
    "        return None"
   ]
  },
  {
   "cell_type": "code",
   "execution_count": 18,
   "metadata": {},
   "outputs": [],
   "source": [
    "no_nulls_df[\"ents\"] = no_nulls_df.geordie.apply(get_entities)\n",
    "no_nulls_df[\"osm\"] = no_nulls_df.geordie.apply(get_osm)\n",
    "no_nulls_df[\"context\"] = no_nulls_df.geordie.apply(get_context)"
   ]
  },
  {
   "cell_type": "code",
   "execution_count": 19,
   "metadata": {},
   "outputs": [],
   "source": [
    "df_exp = no_nulls_df.explode([\"ents\",\"osm\",\"context\"])"
   ]
  },
  {
   "cell_type": "code",
   "execution_count": 20,
   "metadata": {},
   "outputs": [],
   "source": [
    "df_exp[\"town\"] = df_exp.osm.apply(get_town)\n",
    "df_exp[\"county\"] = df_exp.osm.apply(lambda x: get_region(x, \"county\"))\n",
    "df_exp[\"state\"] = df_exp.osm.apply(lambda x: get_region(x, \"state\"))"
   ]
  }
 ],
 "metadata": {
  "kernelspec": {
   "display_name": "bertas-env",
   "language": "python",
   "name": "python3"
  },
  "language_info": {
   "codemirror_mode": {
    "name": "ipython",
    "version": 3
   },
   "file_extension": ".py",
   "mimetype": "text/x-python",
   "name": "python",
   "nbconvert_exporter": "python",
   "pygments_lexer": "ipython3",
   "version": "3.10.14"
  }
 },
 "nbformat": 4,
 "nbformat_minor": 2
}
